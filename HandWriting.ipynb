{
 "cells": [
  {
   "cell_type": "code",
   "execution_count": 142,
   "metadata": {},
   "outputs": [],
   "source": [
    "import numpy as np\n",
    "import matplotlib.pyplot as plt\n",
    "import random"
   ]
  },
  {
   "cell_type": "code",
   "execution_count": 143,
   "metadata": {},
   "outputs": [],
   "source": [
    "X_train = np.loadtxt('train_X.csv', delimiter=',').T\n",
    "Y_train = np.loadtxt('train_label.csv', delimiter=',').T\n",
    "\n",
    "X_test = np.loadtxt('test_X.csv', delimiter=',').T\n",
    "Y_test = np.loadtxt('test_label.csv', delimiter=',').T"
   ]
  },
  {
   "cell_type": "code",
   "execution_count": 144,
   "metadata": {},
   "outputs": [],
   "source": [
    "def tanh(x):\n",
    "    return np.tanh(x)\n",
    "\n",
    "def relu(x):\n",
    "    return np.maximum(0, x)\n",
    "\n",
    "def softmax(x):\n",
    "    return np.exp(x) / np.sum(np.exp(x), axis=0)"
   ]
  },
  {
   "cell_type": "code",
   "execution_count": 145,
   "metadata": {},
   "outputs": [],
   "source": [
    "def derivative_tanh(x):\n",
    "    return 1 - np.tanh(x)**2\n",
    "\n",
    "def derivative_relu(x):\n",
    "    return np.array(x > 0, dtype=float)"
   ]
  },
  {
   "cell_type": "code",
   "execution_count": 146,
   "metadata": {},
   "outputs": [],
   "source": [
    "def initialize_parameters(n_x,n_h,n_y):\n",
    "    w1 = np.random.randn(n_h, n_x) * 0.01\n",
    "    b1 = np.zeros((n_h, 1))\n",
    "    w2 = np.random.randn(n_y, n_h) * 0.01\n",
    "    b2 = np.zeros((n_y, 1))\n",
    "    parameters = {\n",
    "        'w1': w1,\n",
    "        'b1': b1,\n",
    "        'w2': w2,\n",
    "        'b2': b2\n",
    "    }\n",
    "    return parameters"
   ]
  },
  {
   "cell_type": "code",
   "execution_count": 147,
   "metadata": {},
   "outputs": [],
   "source": [
    "def forward_propagation(X, parameters):\n",
    "    w1 = parameters['w1']\n",
    "    b1 = parameters['b1']\n",
    "    w2 = parameters['w2']\n",
    "    b2 = parameters['b2']\n",
    "\n",
    "    Z1 = np.dot(w1, X) + b1\n",
    "    A1 = tanh(Z1)\n",
    "    Z2 = np.dot(w2, A1) + b2\n",
    "    A2 = softmax(Z2)\n",
    "\n",
    "    cache = {\n",
    "        'Z1': Z1,\n",
    "        'A1': A1,\n",
    "        'Z2': Z2,\n",
    "        'A2': A2\n",
    "    }\n",
    "    return cache"
   ]
  },
  {
   "cell_type": "code",
   "execution_count": 148,
   "metadata": {},
   "outputs": [],
   "source": [
    "def cost_function(a2, y):\n",
    "    m = y.shape[1]\n",
    "    cost = -1 / m * np.sum(y * np.log(a2))\n",
    "    return cost"
   ]
  },
  {
   "cell_type": "code",
   "execution_count": 149,
   "metadata": {},
   "outputs": [],
   "source": [
    "def backward_prop(x,y,parameters,forward_cache):\n",
    "    w1 = parameters['w1']\n",
    "    w2 = parameters['w2']\n",
    "    A1 = forward_cache['A1']\n",
    "    A2 = forward_cache['A2']\n",
    "    b1 = parameters['b1']\n",
    "    b2 = parameters['b2']\n",
    "\n",
    "    m = x.shape[1]\n",
    "    dz2 = A2 - y\n",
    "    dw2 = 1 / m * np.dot(dz2, A1.T)\n",
    "    db2 = 1 / m * np.sum(dz2, axis=1, keepdims=True)\n",
    "    dz1 = np.dot(w2.T, dz2) * derivative_tanh(A1)\n",
    "    dw1 = 1 / m * np.dot(dz1, x.T)\n",
    "    db1 = 1 / m * np.sum(dz1, axis=1, keepdims=True)\n",
    "\n",
    "    grads = {\n",
    "        'dw1': dw1,\n",
    "        'db1': db1,\n",
    "        'dw2': dw2,\n",
    "        'db2': db2\n",
    "    }\n",
    "    return grads\n"
   ]
  },
  {
   "cell_type": "code",
   "execution_count": 150,
   "metadata": {},
   "outputs": [],
   "source": [
    "def update_parameters(parameters,gradients, learning_rate):\n",
    "    w1 = parameters['w1']\n",
    "    b1 = parameters['b1']\n",
    "    w2 = parameters['w2']\n",
    "    b2 = parameters['b2']\n",
    "\n",
    "    dw1 = gradients['dw1']\n",
    "    db1 = gradients['db1']\n",
    "    dw2 = gradients['dw2']\n",
    "    db2 = gradients['db2']\n",
    "\n",
    "    w1 = w1 - learning_rate * dw1\n",
    "    b1 = b1 - learning_rate * db1\n",
    "    w2 = w2 - learning_rate * dw2\n",
    "    b2 = b2 - learning_rate * db2\n",
    "\n",
    "    parameters = {\n",
    "        'w1': w1,\n",
    "        'b1': b1,\n",
    "        'w2': w2,\n",
    "        'b2': b2\n",
    "    }\n",
    "\n",
    "    return parameters"
   ]
  },
  {
   "cell_type": "code",
   "execution_count": 233,
   "metadata": {},
   "outputs": [],
   "source": [
    "def model(x,y,n_h,learning_rate,iterations):\n",
    "    n_x = x.shape[0]\n",
    "    n_y = y.shape[0]\n",
    "    cost_list = list()\n",
    "    parameters = initialize_parameters(n_x,n_h,n_y)\n",
    "    for i in range(iterations):\n",
    "        forward_cache = forward_propagation(x, parameters)\n",
    "        cost = cost_function(forward_cache['A2'], y)\n",
    "        grads = backward_prop(x,y,parameters,forward_cache)\n",
    "        parameters = update_parameters(parameters,grads,learning_rate)\n",
    "        cost_list.append(cost)\n",
    "        if i % 10 == 0:\n",
    "            print('Cost after iteration %i: %f' % (i, cost))\n",
    "    return parameters, cost_list"
   ]
  },
  {
   "cell_type": "code",
   "execution_count": 234,
   "metadata": {},
   "outputs": [
    {
     "name": "stdout",
     "output_type": "stream",
     "text": [
      "Cost after iteration 0: 2.334652\n",
      "Cost after iteration 10: 0.709545\n",
      "Cost after iteration 20: 0.494219\n",
      "Cost after iteration 30: 0.399195\n",
      "Cost after iteration 40: 0.338703\n",
      "Cost after iteration 50: 0.296161\n",
      "Cost after iteration 60: 0.264304\n",
      "Cost after iteration 70: 0.239380\n",
      "Cost after iteration 80: 0.218702\n",
      "Cost after iteration 90: 0.202172\n"
     ]
    }
   ],
   "source": [
    "iterations = 100\n",
    "n_h = 1000\n",
    "learning_rate = 0.005\n",
    "Parameters, Cost_list = model(X_train,Y_train,n_h,learning_rate,iterations)"
   ]
  },
  {
   "cell_type": "code",
   "execution_count": 235,
   "metadata": {},
   "outputs": [
    {
     "data": {
      "image/png": "[encoded data removed]",
      "text/plain": [
       "<Figure size 432x288 with 1 Axes>"
      ]
     },
     "metadata": {
      "needs_background": "light"
     },
     "output_type": "display_data"
    }
   ],
   "source": [
    "t = np.arange(0,iterations)\n",
    "plt.plot(t, Cost_list)\n",
    "plt.xlabel('iterations')\n",
    "plt.ylabel('cost')\n",
    "plt.show()"
   ]
  },
  {
   "cell_type": "code",
   "execution_count": 236,
   "metadata": {},
   "outputs": [],
   "source": [
    "def accuracy(inp, labels, parameters):\n",
    "    forward_cache = forward_propagation(inp, parameters)\n",
    "    a_out = forward_cache['A2']    \n",
    "    a_out = np.argmax(a_out, 0)\n",
    "    labels = np.argmax(labels, 0)\n",
    "    acc = np.mean(a_out == labels)*100\n",
    "    return acc"
   ]
  },
  {
   "cell_type": "code",
   "execution_count": 238,
   "metadata": {},
   "outputs": [
    {
     "name": "stdout",
     "output_type": "stream",
     "text": [
      "Accuracy of Train Dataset 97.5 %\n",
      "Accuracy of Test Dataset 86.29 %\n"
     ]
    }
   ],
   "source": [
    "print(\"Accuracy of Train Dataset\", accuracy(X_train, Y_train, Parameters), \"%\")\n",
    "print(\"Accuracy of Test Dataset\", round(accuracy(X_test, Y_test, Parameters), 2), \"%\")"
   ]
  },
  {
   "cell_type": "code",
   "execution_count": 255,
   "metadata": {},
   "outputs": [
    {
     "data": {
      "image/png": "[encoded data removed]",
      "text/plain": [
       "<Figure size 432x288 with 1 Axes>"
      ]
     },
     "metadata": {
      "needs_background": "light"
     },
     "output_type": "display_data"
    },
    {
     "name": "stdout",
     "output_type": "stream",
     "text": [
      "Our model says it is : 1\n"
     ]
    }
   ],
   "source": [
    "idx = int(random.randrange(0,X_test.shape[1]))\n",
    "plt.imshow(X_test[:, idx].reshape((28,28)),cmap='gray')\n",
    "plt.show()\n",
    "\n",
    "cache = forward_propagation(X_test[:, idx].reshape(X_test[:, idx].shape[0], 1), Parameters)\n",
    "a_pred = cache['A2']  \n",
    "a_pred = np.argmax(a_pred, 0)\n",
    "\n",
    "print(\"Our model says it is :\", a_pred[0])"
   ]
  }
 ],
 "metadata": {
  "interpreter": {
   "hash": "dd7418a684a3ed435739ad488a4ef41144a35cb55de007a7c4e087ea5e2751c4"
  },
  "kernelspec": {
   "display_name": "Python 3.10.3 64-bit",
   "language": "python",
   "name": "python3"
  },
  "language_info": {
   "codemirror_mode": {
    "name": "ipython",
    "version": 3
   },
   "file_extension": ".py",
   "mimetype": "text/x-python",
   "name": "python",
   "nbconvert_exporter": "python",
   "pygments_lexer": "ipython3",
   "version": "3.10.3"
  },
  "orig_nbformat": 4
 },
 "nbformat": 4,
 "nbformat_minor": 2
}
